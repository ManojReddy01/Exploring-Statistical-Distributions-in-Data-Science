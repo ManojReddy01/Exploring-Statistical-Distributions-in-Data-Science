{
 "cells": [
  {
   "cell_type": "markdown",
   "id": "c549ed11-320f-41bf-9780-24a4283e4bb1",
   "metadata": {},
   "source": [
    "# **Types of Distributions**\r\n",
    "\r\n",
    "## In this Jupyter Notebook, I have covered some of the most important distributions required for analyzing data. Understanding these distributions helps in identifying patterns, applying correct statistical methods, and making informed decisions.\r\n",
    "\r\n",
    "### **Distributions Covered:**\r\n",
    "\r\n",
    "1. **Normal Distribution**: Also known as the bell curve, this continuous probability distribution is symmetric about the mean and widely used in inferential statistics and natural data analysis.\r\n",
    "2. **Binomial Distribution**: Models the number of successes in a fixed number of independent trials, where each trial has the same probability of success.\r\n",
    "3. **Poisson Distribution**: Used to model the probability of a certain number of events occurring within a fixed interval of time or space, assuming a constant mean rate and independence of events.\r\n",
    "4. **Uniform Distribution**: Represents scenarios where every outcome within a specific range is equally likely. It can be either discrete or continuous.\r\n",
    "\r\n",
    "### **Purpose**\r\n",
    "\r\n",
    "Understanding these distributions is essential in data science for tasks such as:\r\n",
    "- **Identifying patterns** in datasets.\r\n",
    "- **Performing hypothesis testing** to validate assumptions.\r\n",
    "- **Creating predictive models** based on observed data.\r\n",
    "- **Simulating real-world scenarios** to estimate outcomes.\r\n",
    "\r\n",
    "For each distribution, this notebook provides:\r\n",
    "- **Mathematical Formulation**: Core equations governing the distribution.\r\n",
    "- **Code Implementation**: Python examples using libraries like `scipy`, `numpy`, and `matplotlib` for practical computations, probability calculations, and visualization.\r\n",
    "- **Key Properties**: Characteristics that define the behavior of each distribution and when they are most applicable.\r\n",
    "\r\n",
    "### **Applications in Data Science**\r\n",
    "\r\n",
    "- **Normal Distribution**: Analyzing naturally occurring data and validating assumptions for parametric tests like t-tests and ANOVA.\r\n",
    "- **Binomial Distribution**: Used in quality control and binary outcome scenarios, such as defect detection in manufacturing.\r\n",
    "- **Poisson Distribution**: Modeling rare events, like website traffic spikes or arrival times of customers at a store.\r\n",
    "- **Uniform Distribution**: Simulating random events where all outcomes are equally likely, such as dice rolls or random sampling.\r\n",
    "\r\n",
    "---\r\n",
    "\r\n",
    "Let’s dive into the details of each distribution!\r\n",
    "ails of each distribution!\r\n"
   ]
  },
  {
   "cell_type": "markdown",
   "id": "91af35b5-aa1d-4509-b23d-3cd0437f82c4",
   "metadata": {},
   "source": [
    "## **1. Normal Disribution**\n",
    "#### 1. Normal Distribution is also called as Guassian Distribution.\n",
    "#### 2. It appears to be in the form of bell shape curve when graphed.\n",
    "#### 3. It is symmetrical plot of data around its mean value.\n",
    "#### 4. It is defined by two parameters: 1. Mean 2. Standard Deviation.\n",
    "### **Properties of Normal Distribution**\n",
    "#### 1. The distribution is symmetric around mean.\n",
    "#### 2. The mean,median and mode is same for the entire data\n",
    "### **Emperical Rule**\n",
    "### 1. The Emperical Rule of NOrmal Distribution says that the 99.5% of the data lies around the 3 Standard Deviations of the Normal Distribution.\n",
    "### 2. It is (68% - 95% - 99.7%)\n",
    "### 3. That means in First standarad deviation, 68% of the entire data lies.\n",
    "### 4. In second Std, it has another 27% percent. i.e 95% within 2 stds.\n",
    "### 5. Tn 3rd std, 99.7 % of the entire data lies.\n",
    "### 6. What ever the data point that ies outside this range is considered as \"Outlier\"."
   ]
  },
  {
   "cell_type": "code",
   "execution_count": 1,
   "id": "6c9864f6-f569-42bc-8645-f5b235f3398c",
   "metadata": {},
   "outputs": [
    {
     "data": {
      "text/plain": [
       "array([75, 64, 60, 52, 62, 76, 72, 75, 68, 58, 72, 65, 65, 67, 69, 64, 67,\n",
       "       56, 79, 56, 75, 73, 63, 81, 72, 58, 54, 72, 47, 71, 59, 68, 58, 58,\n",
       "       81, 56, 72, 69, 63, 65, 53, 77, 84, 48, 63, 73, 51, 84, 60, 68, 73,\n",
       "       69, 56, 79, 60, 73, 70, 81, 82, 76, 67, 68, 54, 62, 64, 74, 69, 80,\n",
       "       66, 51, 78, 63, 83, 62, 67, 50, 57, 44, 53, 57, 56, 74, 67, 57, 76,\n",
       "       58, 56, 77, 92, 72, 55, 71, 66, 66, 67, 93, 70, 68, 67, 71, 56, 63,\n",
       "       70, 62, 57, 70, 83, 72, 63, 61, 63, 41, 63, 67, 46, 57, 67, 69, 64,\n",
       "       79, 63, 59, 63, 52, 74, 85, 61, 62, 48, 69, 73, 57, 54, 64, 83, 73,\n",
       "       80, 81, 55, 62, 70, 71, 65, 73, 57, 46, 65, 68, 71, 65, 49, 48, 61,\n",
       "       56, 73, 64, 58, 58, 56, 59, 82, 62, 79, 66, 72, 80, 77, 86, 65, 64,\n",
       "       68, 64, 78, 58, 73, 75, 73, 59, 87, 82, 67, 72, 76, 71, 55, 43, 59,\n",
       "       62, 75, 71, 62, 48, 66, 53, 56, 64, 73, 56, 88, 51, 51, 57, 56, 76,\n",
       "       76, 70, 79, 62, 69, 51, 59, 90, 59, 86, 49, 70, 73, 54, 48, 61, 74,\n",
       "       66, 68, 62, 41, 64, 61, 61, 80, 54, 74, 64, 50, 52, 56, 68, 69, 64,\n",
       "       54, 52, 62, 59, 60, 67, 89, 47, 51, 63, 61, 68, 61, 69, 73, 73, 47,\n",
       "       58, 63, 65, 77, 71, 65, 55, 61, 60, 52, 69, 63, 50, 55, 70, 73, 93,\n",
       "       62, 82, 73, 63, 47, 60, 70, 64, 68, 64, 45, 64, 43, 84, 62, 68, 56,\n",
       "       80, 53, 58, 82, 74, 65, 74, 60, 80, 74, 63, 44, 69, 62, 54, 77, 31,\n",
       "       71, 50, 50, 40, 29, 72, 63, 58, 50, 60, 64, 60, 81, 82, 66, 57, 80,\n",
       "       67, 75, 59, 65, 63, 48, 64, 62, 63, 71, 80, 63, 73, 44, 65, 63, 55,\n",
       "       65, 51, 68, 64, 79, 58, 82, 79, 79, 73, 65, 57, 53, 61, 60, 58, 75,\n",
       "       82, 48, 65, 68, 55, 58, 58, 85, 72, 60, 68, 70, 77, 57, 61, 57, 73,\n",
       "       59, 73, 56, 76, 77, 67, 61, 70, 78, 63, 72, 68, 82, 75, 74, 67, 72,\n",
       "       69, 71, 59, 52, 71, 63, 61, 56, 67, 68, 61, 46, 72, 66, 74, 63, 78,\n",
       "       52, 65, 70, 65, 67, 68, 65, 53, 50, 86, 57, 58, 71, 64, 77, 69, 60,\n",
       "       56, 68, 58, 74, 58, 62, 60, 61, 54, 68, 57, 77, 64, 73, 69, 73, 75,\n",
       "       62, 65, 62, 51, 57, 63, 66, 65, 67, 80, 52, 55, 75, 61, 68, 44, 53,\n",
       "       62, 59, 59, 53, 67, 59, 51, 55, 73, 62, 85, 80, 60, 75, 52, 65, 47,\n",
       "       72, 57, 85, 84, 79, 74, 77, 74, 56, 67, 63, 63, 62, 65, 83, 73, 68,\n",
       "       71, 60, 48, 63, 56, 90, 69, 78, 56, 72, 69, 50, 62, 60, 80, 63, 53,\n",
       "       62, 72, 72, 57, 52, 57, 57, 61, 54, 71, 51, 54, 64, 48, 51, 94, 80,\n",
       "       75, 70, 64, 58, 61, 63, 59, 68, 65, 49, 63, 59, 65, 72, 65, 69, 68,\n",
       "       79, 65, 63, 55, 68, 68, 53, 62, 76, 81, 66, 57, 58, 71, 82, 71, 61,\n",
       "       48, 78, 53, 52, 60, 68, 69, 53, 74, 72, 65, 67, 50, 63, 75, 66, 61,\n",
       "       52, 53, 49, 68, 64, 71, 61, 65, 78, 70, 69, 63, 58, 56, 54, 65, 79,\n",
       "       74, 66, 74, 65, 60, 62, 72, 65, 66, 52, 53, 65, 80, 77, 64, 68, 62,\n",
       "       58, 67, 66, 68, 64, 75, 69, 64, 58, 49, 59, 57, 95, 72, 76, 48, 72,\n",
       "       66, 68, 69, 54, 69, 54, 66, 54, 57, 57, 52, 61, 75, 61, 40, 59, 54,\n",
       "       56, 66, 61, 69, 64, 60, 58, 58, 57, 66, 69, 69, 79, 59, 65, 69, 54,\n",
       "       58, 73, 64, 82, 65, 71, 62, 65, 64, 69, 51, 75, 53, 70, 76, 64, 59,\n",
       "       45, 65, 65, 61, 51, 62, 65, 43, 63, 52, 72, 58, 60, 76, 64, 77, 52,\n",
       "       59, 61, 72, 55, 74, 60, 56, 78, 52, 60, 71, 77, 77, 57, 80, 69, 71,\n",
       "       53, 70, 87, 64, 52, 66, 62, 63, 67, 59, 84, 70, 74, 66, 49, 64, 70,\n",
       "       72, 59, 54, 55, 78, 76, 66, 61, 62, 78, 51, 66, 64, 64, 74, 67, 48,\n",
       "       38, 60, 74, 55, 61, 63, 65, 51, 73, 79, 61, 57, 74, 67, 71, 73, 82,\n",
       "       66, 69, 67, 63, 66, 74, 69, 74, 59, 47, 88, 52, 55, 54, 57, 59, 75,\n",
       "       46, 66, 55, 61, 74, 82, 59, 77, 76, 63, 66, 65, 54, 86, 72, 71, 71,\n",
       "       92, 56, 69, 58, 67, 52, 78, 67, 53, 59, 71, 74, 58, 54, 57, 47, 59,\n",
       "       92, 60, 67, 61, 67, 51, 76, 63, 53, 72, 63, 66, 68, 54, 67, 54, 67,\n",
       "       67, 65, 71, 70, 62, 68, 60, 75, 69, 60, 57, 60, 88, 69, 70, 68, 67,\n",
       "       65, 56, 40, 71, 61, 58, 56, 95, 68, 50, 80, 51, 69, 62, 74, 77, 60,\n",
       "       81, 59, 49, 67, 49, 64, 74, 71, 70, 66, 85, 55, 65, 74, 60, 51, 59,\n",
       "       70, 76, 55, 61, 69, 84, 68, 48, 54, 85, 77, 58, 73, 61, 79, 56, 66,\n",
       "       71, 53, 71, 57, 74, 59, 68, 56, 59, 63, 63, 57, 67, 57, 68, 63, 59,\n",
       "       63, 46, 56, 54, 77, 52, 67, 71, 58, 72, 53, 38, 57, 85, 71, 52, 46,\n",
       "       60, 72, 69, 50, 63, 64, 65, 92, 60, 72, 50, 70, 58, 56, 62, 67, 63,\n",
       "       63, 69, 65, 61, 49, 54, 69, 57, 54, 55, 66, 69, 77, 64, 71, 51, 62,\n",
       "       55, 55, 61, 79, 70, 73, 58, 61, 79, 64, 54, 62, 87, 61, 75, 75, 73,\n",
       "       74, 72, 62, 83, 62, 80, 57, 57, 56, 57, 66, 64, 87, 62])"
      ]
     },
     "execution_count": 1,
     "metadata": {},
     "output_type": "execute_result"
    }
   ],
   "source": [
    "import numpy as np\n",
    "data = np.random.normal(65,10,1000).round().astype(int)\n",
    "data"
   ]
  },
  {
   "cell_type": "code",
   "execution_count": 2,
   "id": "1f8651eb-a6f2-456c-aa0d-c83680d2e06d",
   "metadata": {},
   "outputs": [
    {
     "data": {
      "text/plain": [
       "64.792"
      ]
     },
     "execution_count": 2,
     "metadata": {},
     "output_type": "execute_result"
    }
   ],
   "source": [
    "data.mean()"
   ]
  },
  {
   "cell_type": "code",
   "execution_count": 3,
   "id": "fe1a6e9c-4cf4-4637-b812-99fcfa2b8432",
   "metadata": {},
   "outputs": [
    {
     "data": {
      "text/plain": [
       "9.987929515169798"
      ]
     },
     "execution_count": 3,
     "metadata": {},
     "output_type": "execute_result"
    }
   ],
   "source": [
    "data.std()"
   ]
  },
  {
   "cell_type": "code",
   "execution_count": 4,
   "id": "eb3b806a-f2df-4ca4-b900-cc07531b9ba7",
   "metadata": {},
   "outputs": [
    {
     "data": {
      "image/png": "[encoded data removed]",
      "text/plain": [
       "<Figure size 1800x600 with 1 Axes>"
      ]
     },
     "metadata": {},
     "output_type": "display_data"
    },
    {
     "name": "stdout",
     "output_type": "stream",
     "text": [
      "Number of outliers: 4\n"
     ]
    }
   ],
   "source": [
    "import matplotlib.pyplot as plt\n",
    "mean = np.mean(data)\n",
    "std = np.std(data)\n",
    "three_std = 3 * std\n",
    "outliers = np.where((data < mean - three_std) | (data > mean + three_std))[0]\n",
    "plt.figure(figsize=(18, 6))\n",
    "plt.hist(data, bins=65, edgecolor='black')\n",
    "plt.fill_between(\n",
    "    [mean - three_std, mean + three_std],\n",
    "    [0, 0],\n",
    "    color='red',\n",
    "    alpha=0.2,\n",
    "    label=f'Outliers ({len(outliers)})'\n",
    ")\n",
    "plt.grid(True)\n",
    "plt.legend()\n",
    "plt.xlabel(\"Values\")\n",
    "plt.ylabel(\"Frequency\")\n",
    "plt.title(\"Normal Distribution with Outliers\")\n",
    "plt.tight_layout()\n",
    "plt.show()\n",
    "\n",
    "print(f\"Number of outliers: {len(outliers)}\")"
   ]
  },
  {
   "cell_type": "markdown",
   "id": "e2f8a0e9-b901-46aa-8770-e043b40dbf41",
   "metadata": {},
   "source": [
    "### **Example**:\n",
    "## Q). Let's assume that the heights of adult males in a certain population are normally distributed with a mean of 175 cm and a standard deviation of 7 cm. What is the probability that a randomly selected adult male from this population is taller than 185 cm?\n",
    "## z = (x-mean)/std\n",
    "## x = value interested in.\n",
    "## mean and standard deviation were given."
   ]
  },
  {
   "cell_type": "code",
   "execution_count": 5,
   "id": "e03c3577-7104-4ef9-b535-d8bb94aa9ce6",
   "metadata": {},
   "outputs": [
    {
     "data": {
      "text/plain": [
       "1.43"
      ]
     },
     "execution_count": 5,
     "metadata": {},
     "output_type": "execute_result"
    }
   ],
   "source": [
    "#lets calculate z value.\n",
    "z = round((185-175)/7,2)\n",
    "z"
   ]
  },
  {
   "cell_type": "code",
   "execution_count": 6,
   "id": "f95aa36e-9b95-4bd3-a95c-f33b384568c1",
   "metadata": {},
   "outputs": [
    {
     "name": "stdout",
     "output_type": "stream",
     "text": [
      "the probability of finding a randomly selected adult male is taller that 185cm is :7.64%\n"
     ]
    }
   ],
   "source": [
    "# we need to find the probability of z>1.43\n",
    "from scipy.stats import norm\n",
    "probability = 1-norm.cdf(z)\n",
    "print(f\"the probability of finding a randomly selected adult male is taller that 185cm is :{round(probability*100,2)}%\")"
   ]
  },
  {
   "cell_type": "markdown",
   "id": "db9dd1ca-e7e9-41ef-a47a-fb25a9ce10f7",
   "metadata": {},
   "source": [
    "## **2. Binomial Distribution**\n",
    "### 1. The Binomial Distribution describes the probability of getting the fixed no of successess in a fixed no of independedt trails.\n",
    "### 2. Here, Each trail has equal probability of success.\n",
    "### 3. We use Binomial Distribution in a situations with clear outcomes.\n",
    "### 4. Each trail has only two outcomes. i.e either (success or failure).\n",
    "### 5. Each trail is independent . i,e one trail outcome is independet of another. for example : if we toss a coin and the outcome is heads. if we toss the same coin again , the outcome is independent of previous outcome.\n",
    "### i.e The probability of success is same for each outcome."
   ]
  },
  {
   "cell_type": "markdown",
   "id": "30f789d5-b0ac-4f97-bbfa-acc5dab9e639",
   "metadata": {},
   "source": [
    "## **Example:**\n",
    "## Q1) ) suppose a factory produces electronic parts with a  defect rate of 2%.(i.e the probability of a part being defective is 0.02). The factory inspects a batch of 50 paarts a every day to monitor quality.\n",
    "### 1) the probability that exactly two parts are defective out of 50.\n",
    "### 2)the probability that 3 or fewer parts defective out of 50"
   ]
  },
  {
   "cell_type": "markdown",
   "id": "84370385-172f-4910-a78b-adef9bd187f5",
   "metadata": {},
   "source": [
    "### 1. No of trails =50\n",
    "### 2. probability of success = 0.02 (The probabilty of finding the defective part.)\n",
    "### 3. number of successess.(k) = we want to calculate probabilities for different values of k.(ex k=2,k<=3)"
   ]
  },
  {
   "cell_type": "markdown",
   "id": "95cd3595-d5f2-4062-a879-6b70f03f1c55",
   "metadata": {},
   "source": [
    "### Part (1): Probability of Exactly 2 Defective Parts"
   ]
  },
  {
   "cell_type": "code",
   "execution_count": 7,
   "id": "bea27ecd-9af0-4e6c-ab1d-bc6f01c585c0",
   "metadata": {},
   "outputs": [
    {
     "name": "stdout",
     "output_type": "stream",
     "text": [
      "the probability of finding exactly two parts to be defective is: 19.0%\n"
     ]
    }
   ],
   "source": [
    "from scipy.stats import binom\n",
    "k=2\n",
    "n=50\n",
    "p=0.02\n",
    "prob_exactly_2 = binom.pmf(2, n, p)\n",
    "print(f\"the probability of finding exactly two parts to be defective is: {round(prob_exactly_2,2)*100}%\")"
   ]
  },
  {
   "cell_type": "markdown",
   "id": "a6e4c6c2-1df1-4308-9c4b-09cf11de6a0e",
   "metadata": {},
   "source": [
    "### Part (2): Probability of 3 or Fewer Defective Parts"
   ]
  },
  {
   "cell_type": "code",
   "execution_count": 8,
   "id": "d42a1997-877e-4c1c-8b76-4d9d8afbca6e",
   "metadata": {},
   "outputs": [
    {
     "name": "stdout",
     "output_type": "stream",
     "text": [
      "the probability of finding 3 or fewer pieces defective is: 98.0%\n"
     ]
    }
   ],
   "source": [
    "k=3\n",
    "n=50\n",
    "p=0.02\n",
    "prob_3_or_fewer = binom.cdf(k, n, p)\n",
    "print(f\"the probability of finding 3 or fewer pieces defective is: {round(prob_3_or_fewer,2)*100}%\")"
   ]
  },
  {
   "cell_type": "markdown",
   "id": "05525b70-f4da-41dc-9b79-1b22076ea299",
   "metadata": {},
   "source": [
    "## Variance and standard deviation of Binomial distributions.\n",
    "### 1. Variance and Standard Deviation \"measures the spread of outcomes\".\n",
    "### 2. The Variance for a binomial distribution is **σ**2 = n*p*(1-p)** where n=no of trails,p=prob of success,σ**2 is variance.\n",
    "### 3. The Standard Deviation is σ = math.sqrt(n*p*(1-p)). where σ is standard deviation symbol.\n",
    "### These valuees will help us how much variability we can expect in the number of successess across repeated sets of trails.\n",
    "### **Example:** Suppose you flip a coin 10 times and count the no of heads .\n",
    "### i.e n = no of trails.(n=10)\n",
    "### p = probability of getting head(p=1/2 or 0.5)\n",
    "### we expect to get E(X) = N*P = 10*0.5 = 5 HEADS.(expected value)\n",
    "### The variance in Binomial distribution tells us how much the no of heads might vary around the expected value(i.e \"5\" in this case.)\n"
   ]
  },
  {
   "cell_type": "code",
   "execution_count": 9,
   "id": "2d3afab1-4c81-4051-9cb7-bdccd364479c",
   "metadata": {},
   "outputs": [
    {
     "name": "stdout",
     "output_type": "stream",
     "text": [
      "The expected value is 5\n",
      "The Variance is: 2.5\n",
      "The Standard Deviation  is: 1.58\n"
     ]
    }
   ],
   "source": [
    "import math\n",
    "n=10\n",
    "p=0.5\n",
    "variance = n*p*(1-p)\n",
    "#expected value\n",
    "E = 5\n",
    "print(\"The expected value is 5\")\n",
    "#calculate variance\n",
    "print(f\"The Variance is: {round(variance,2)}\")\n",
    "#calculate standard deviation\n",
    "standard_deviation = math.sqrt(variance)\n",
    "print(f\"The Standard Deviation  is: {round(standard_deviation,2)}\")"
   ]
  },
  {
   "cell_type": "markdown",
   "id": "1e489d5e-f809-4169-8128-6070e1a6ca7f",
   "metadata": {},
   "source": [
    "#### **Key take aways of Binomial Distribution:**\n",
    "### 1. Binomial Distribution is useful when for situation with fixed no of independent trails and each with a binary outcome.(success/failure).\n",
    "### 2. It requires the no of trails as \"n\",The probability of success \"p\",and the desired no of success to calculate the probabilities."
   ]
  },
  {
   "cell_type": "markdown",
   "id": "82e9f945-7398-4b60-b3f5-e1abb2a9dd90",
   "metadata": {},
   "source": [
    "## **3.** **Poisson Distribution**\n",
    "### 1. Poisson Distribution is a Probability Distribution.\n",
    "### 2.It is used to find no of times an event happens in a fixed interval of time and space.\n",
    "### 3. The key idea is these events happen independently at a constant average rate.\n",
    "\n",
    "### **Properties:**\n",
    "### 1. Poissons is skewed to right,especially for smaller mean values.\n",
    "### 2. AS rate increase, it becomes more symmetric.It resembles Normal Distribution.\n",
    "### 3. If rate is low,Probability of high values is also likely very low."
   ]
  },
  {
   "cell_type": "markdown",
   "id": "ffdae1bb-ebc1-4632-b76c-58a213c6e544",
   "metadata": {},
   "source": [
    "## **Example:**\n",
    "## If on an average,6 customers arrive for every two minutes at a bank during busy hours.\n",
    "### a) what is the probability that exactly four customers occur in a given minute.\n",
    "### b)what is the probability that more than 3 customers will arrive in a given minute?"
   ]
  },
  {
   "cell_type": "code",
   "execution_count": 10,
   "id": "dab57182-95fa-4abf-9d68-c073c0145539",
   "metadata": {},
   "outputs": [
    {
     "name": "stdout",
     "output_type": "stream",
     "text": [
      "Probability of exactly 4 customers: 0.1680\n",
      "Probability of more than 3 customers: 0.3528\n"
     ]
    }
   ],
   "source": [
    "import numpy as np\n",
    "from scipy.stats import poisson\n",
    "\n",
    "lambda_rate = (6/2) \n",
    "\n",
    "# Part (a): Probability of exactly 4 customers arriving in a minute\n",
    "prob_exactly_4 = poisson.pmf(4, lambda_rate)\n",
    "\n",
    "# Part (b): Probability of more than 3 customers arriving in a minute\n",
    "prob_more_than_3 = 1 - poisson.cdf(3, lambda_rate)\n",
    "\n",
    "print(f\"Probability of exactly 4 customers: {prob_exactly_4:.4f}\")\n",
    "print(f\"Probability of more than 3 customers: {prob_more_than_3:.4f}\")\n"
   ]
  },
  {
   "cell_type": "markdown",
   "id": "6aa13916-4281-40af-8ec3-6f4a579e2b83",
   "metadata": {},
   "source": [
    "## **4. Uniform Distribution**\n",
    "### 1. A Uniform Distribution is one in which every outcome wihtin a certain range has an equal probability of counting.\n",
    "### 2. There are two types of uniform distributions.\n",
    "#### **I). DISCRETE UNIFORM DISTRIBUTION.**\n",
    "#### **II). CONTINUOUS UNIFORM DISTRIBUTION.**"
   ]
  },
  {
   "cell_type": "markdown",
   "id": "7de6d7d7-87e9-4c7c-b4d3-7dd21fbb1b29",
   "metadata": {},
   "source": [
    "#### **Discrete uniform distribution.**\n",
    "### In discrete uniform distribution each of the finite no of outcomes is equally likely.\n",
    "### **Example:** Rolling a fair dice!!\n",
    "### possible outcomes = [1,2,3,4,5,6]\n",
    "### Each outcome has a equal probability of 1/6."
   ]
  },
  {
   "cell_type": "code",
   "execution_count": 11,
   "id": "55175514-ed19-4328-9a76-83c60159f800",
   "metadata": {},
   "outputs": [],
   "source": [
    "#probability of getting number 4 \n",
    "prob_4 = 1/6\n",
    "#probability of getting number 3\n",
    "prob_3 = 1/6\n"
   ]
  },
  {
   "cell_type": "markdown",
   "id": "9656e9a3-59f6-4dbd-96f5-e4decf4144d3",
   "metadata": {},
   "source": [
    "#### **Contiuous uniform Distribution.**\n",
    "### 1. In continuos uniform distribution,every outcome within a range is equally likely and we have infinite no of possible outcomes within an interval.(because it is continuos.)\n",
    "### 2. **Example:** selecting a random time within a hour\n",
    "### 3. range : anytime between 0 to 60 minutes.\n",
    "### 4. Here, the probability of any single time (ex : 30.5 min) is almost 0 beacause there are infinite possible outcomes of a time in an hour.\n",
    "### 5. So, it is not possible to select the probability of specific time.\n",
    "### 6. Instead , we calculate the probability over an interval!\n",
    "### 7. for ex: Probability of picking a time between 10 and 20 minutes\n",
    "### 8. calculate the **probability density function(pdf)** : \n",
    "### 9. i.e pdf = 1/(b-a)\n",
    "### 10. where a,b are minimum and maximum values respectively."
   ]
  },
  {
   "cell_type": "markdown",
   "id": "4adc8477-1698-45ef-aff5-4915393a373e",
   "metadata": {},
   "source": [
    "## **Example**: say, we want the probability of selectinf a time between 10 to 20 minutes within the range of 0 to 60 minutes range.\n"
   ]
  },
  {
   "cell_type": "code",
   "execution_count": 12,
   "id": "0a7c61b1-145b-49fe-94d5-c9e57c739c7e",
   "metadata": {},
   "outputs": [
    {
     "name": "stdout",
     "output_type": "stream",
     "text": [
      "The probability of selecting the a time between 10 and 20 minutes in between 0 to 60 minute range is : 16.67%\n"
     ]
    }
   ],
   "source": [
    "a=0\n",
    "b=60\n",
    "total_range = b-a\n",
    "#probability of selecting a time between 10 to 20 minutes\n",
    "p = (1/total_range)*(20-10)\n",
    "print(f\"The probability of selecting the a time between 10 and 20 minutes in between 0 to 60 minute range is : {round((p*100),2)}%\")"
   ]
  },
  {
   "cell_type": "markdown",
   "id": "da84abbd-45e4-4a4b-ac26-4df7985ef87a",
   "metadata": {},
   "source": [
    "## Actual maths behind the answer is :\n",
    "## **p(10<=X<=20)** = integral(lower(a)=0,upper(b)=60) of f(x)dx.\n",
    "##  where **f(x) = 1/(b-a)**."
   ]
  },
  {
   "cell_type": "code",
   "execution_count": null,
   "id": "a965aa85-3c74-46c7-be0c-3aaeb2ca9a3b",
   "metadata": {},
   "outputs": [],
   "source": []
  }
 ],
 "metadata": {
  "kernelspec": {
   "display_name": "Python 3 (ipykernel)",
   "language": "python",
   "name": "python3"
  },
  "language_info": {
   "codemirror_mode": {
    "name": "ipython",
    "version": 3
   },
   "file_extension": ".py",
   "mimetype": "text/x-python",
   "name": "python",
   "nbconvert_exporter": "python",
   "pygments_lexer": "ipython3",
   "version": "3.9.18"
  }
 },
 "nbformat": 4,
 "nbformat_minor": 5
}
